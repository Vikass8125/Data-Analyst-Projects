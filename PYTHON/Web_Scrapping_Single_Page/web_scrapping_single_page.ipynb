{
 "cells": [
  {
   "cell_type": "markdown",
   "id": "66de9fbe-7c52-4ab5-90bf-d16cfe77fba9",
   "metadata": {},
   "source": [
    "## Import libraries "
   ]
  },
  {
   "cell_type": "code",
   "execution_count": 7,
   "id": "e9664eca-4ddb-4fb7-8d5d-15bf875d1970",
   "metadata": {},
   "outputs": [],
   "source": [
    "from bs4 import BeautifulSoup\n",
    "import requests\n",
    "import time\n",
    "import datetime"
   ]
  },
  {
   "cell_type": "markdown",
   "id": "6e436d45-bc52-439a-8d0f-7af868d32f3b",
   "metadata": {},
   "source": [
    "## Connect to Website and pull in data"
   ]
  },
  {
   "cell_type": "code",
   "execution_count": 90,
   "id": "3a327e0f-80c0-4ccb-8b28-d97d43e69873",
   "metadata": {},
   "outputs": [],
   "source": [
    "URL = 'https://www.amazon.in/Seek-Buy-Love-Spreadsheet-Accountant/dp/B0CZJ82YT1/ref=sr_1_3?crid=1LUEFJKIBG6VP&dib=eyJ2IjoiMSJ9.Wv-NxNGBS-LNPPftSOJQ6-FYxww2sBXhrGSulbUJv_To6MZTcsWFeG_nj8wKpCk3bd8CbIRPw4LFILXFs6tBAhSPyOe5xWBsxa8K9ramDVfQJU_P1kD8YvU5-xB2kEBSnvFHY3k9_tQrRbXAaC8lzOLMcYi1miYEYuCQOrANB3yloHWx2wDOgyKNjhq3XKyiCH8A6XR3sltRCmsF91DVzSB3NbE898_1pvf6jpaZ8ahBliMsKlo-7zf4bQ-0b9aw-ZkpFroNg8-WAmwpp1kDVZgqhRIxFOtfNd38M-aPugc.0prNRSNfcU_iJrkVgiD-90pZm7xgnGuPYIOvdmsi8kk&dib_tag=se&keywords=data+analyst+tshirt&qid=1729252520&sprefix=data+analyst+tshirt%2Caps%2C173&sr=8-3'\n",
    "\n",
    "headers = {\"User-Agent\": \"Mozilla/5.0 (Windows NT 10.0; Win64; x64) AppleWebKit/537.36 (KHTML, like Gecko) Chrome/128.0.0.0 Safari/537.36 OPR/114.0.0.0\", \"Accept-Encoding\":\"gzip, deflate\", \"Accept\":\"text/html,application/xhtml+xml,application/xml;q=0.9,*/*;q=0.8\", \"DNT\":\"1\",\"Connection\":\"close\", \"Upgrade-Insecure-Requests\":\"1\"}\n",
    "\n",
    "page = requests.get(URL, headers=headers)\n",
    "\n",
    "soup1 = BeautifulSoup(page.content, \"html.parser\")\n",
    "\n",
    "soup2 = BeautifulSoup(soup1.prettify(), \"html.parser\")"
   ]
  },
  {
   "cell_type": "markdown",
   "id": "60914dfd-f230-45d0-9265-e6601b6706a1",
   "metadata": {},
   "source": [
    "## Extract title, price and clean it up"
   ]
  },
  {
   "cell_type": "code",
   "execution_count": 58,
   "id": "addde675-126b-45a4-a8e9-e8e21c38476a",
   "metadata": {},
   "outputs": [
    {
     "name": "stdout",
     "output_type": "stream",
     "text": [
      "Seek Buy Love Funny Spreadsheet T-Shirt, Data Analyst Tee, Accountant Gift, Office Humor Shirt, Casual Graphic Top, Unisex Tee\n",
      "449\n"
     ]
    }
   ],
   "source": [
    "# Extract title and clean it up\n",
    "title = soup2.find(id='title_feature_div').get_text(strip=True)\n",
    "\n",
    "# Extract price and clean it up\n",
    "price = soup2.find(id='corePriceDisplay_desktop_feature_div').get_text(strip=True)\n",
    "\n",
    "# Use regex to extract the numeric price\n",
    "import re\n",
    "cleaned_price = re.search(r\"₹(\\d+)\", price).group(1)\n",
    "\n",
    "# Print the cleaned results\n",
    "print(title)\n",
    "print(cleaned_price)"
   ]
  },
  {
   "cell_type": "code",
   "execution_count": 60,
   "id": "19c3b731-d83f-422b-a240-8215acfcaf94",
   "metadata": {},
   "outputs": [
    {
     "name": "stdout",
     "output_type": "stream",
     "text": [
      "2024-10-18\n"
     ]
    }
   ],
   "source": [
    "# Create a Timestamp for your output to track when data was collected\n",
    "\n",
    "import datetime\n",
    "today = datetime.date.today()\n",
    "print(today)"
   ]
  },
  {
   "cell_type": "code",
   "execution_count": 72,
   "id": "93216089-c626-4ca5-bfee-684f27f81eb3",
   "metadata": {},
   "outputs": [],
   "source": [
    "# Create CSV and write headers and data into the file\n",
    "\n",
    "import csv \n",
    "header = ['Title', 'Price', 'Date']\n",
    "data = [title, cleaned_price, today]\n",
    "\n",
    "with open('WebScraperDataset.csv', 'w', newline='', encoding='UTF8') as f:\n",
    "    writer = csv.writer(f)\n",
    "    writer.writerow(header)\n",
    "    writer.writerow(data)"
   ]
  },
  {
   "cell_type": "code",
   "execution_count": 80,
   "id": "aa658330-bae4-4299-9c56-784cc9c168ba",
   "metadata": {},
   "outputs": [
    {
     "name": "stdout",
     "output_type": "stream",
     "text": [
      "                                               Title  Price        Date\n",
      "0  Seek Buy Love Funny Spreadsheet T-Shirt, Data ...    449  2024-10-18\n",
      "1  Seek Buy Love Funny Spreadsheet T-Shirt, Data ...    449  2024-10-18\n",
      "2  Seek Buy Love Funny Spreadsheet T-Shirt, Data ...    449  2024-10-18\n"
     ]
    }
   ],
   "source": [
    "import pandas as pd\n",
    "df = pd.read_csv('WebScraperDataset.csv')\n",
    "print(df)"
   ]
  },
  {
   "cell_type": "code",
   "execution_count": 78,
   "id": "a66ee45e-96f6-4cb1-83a9-05579fc559d5",
   "metadata": {},
   "outputs": [],
   "source": [
    "# Now we are appending data to the csv\n",
    "\n",
    "with open('WebScraperDataset.csv', 'a+', newline='', encoding='UTF8') as f:\n",
    "    writer = csv.writer(f)\n",
    "    writer.writerow(data)"
   ]
  },
  {
   "cell_type": "code",
   "execution_count": 100,
   "id": "c8d0ae8c-326c-46c8-b403-e7af0b8e196d",
   "metadata": {},
   "outputs": [],
   "source": [
    "# Combine all of the above code into one function\n",
    "\n",
    "def check_price():\n",
    "    URL = 'https://www.amazon.in/Seek-Buy-Love-Spreadsheet-Accountant/dp/B0CZJ82YT1/ref=sr_1_3?crid=1LUEFJKIBG6VP&dib=eyJ2IjoiMSJ9.Wv-NxNGBS-LNPPftSOJQ6-FYxww2sBXhrGSulbUJv_To6MZTcsWFeG_nj8wKpCk3bd8CbIRPw4LFILXFs6tBAhSPyOe5xWBsxa8K9ramDVfQJU_P1kD8YvU5-xB2kEBSnvFHY3k9_tQrRbXAaC8lzOLMcYi1miYEYuCQOrANB3yloHWx2wDOgyKNjhq3XKyiCH8A6XR3sltRCmsF91DVzSB3NbE898_1pvf6jpaZ8ahBliMsKlo-7zf4bQ-0b9aw-ZkpFroNg8-WAmwpp1kDVZgqhRIxFOtfNd38M-aPugc.0prNRSNfcU_iJrkVgiD-90pZm7xgnGuPYIOvdmsi8kk&dib_tag=se&keywords=data+analyst+tshirt&qid=1729252520&sprefix=data+analyst+tshirt%2Caps%2C173&sr=8-3'\n",
    "\n",
    "    headers = {\"User-Agent\": \"Mozilla/5.0 (Windows NT 10.0; Win64; x64) AppleWebKit/537.36 (KHTML, like Gecko) Chrome/128.0.0.0 Safari/537.36 OPR/114.0.0.0\", \"Accept-Encoding\":\"gzip, deflate\", \"Accept\":\"text/html,application/xhtml+xml,application/xml;q=0.9,*/*;q=0.8\", \"DNT\":\"1\",\"Connection\":\"close\", \"Upgrade-Insecure-Requests\":\"1\"}\n",
    "    \n",
    "    page = requests.get(URL, headers=headers)\n",
    "    \n",
    "    soup1 = BeautifulSoup(page.content, \"html.parser\")\n",
    "    \n",
    "    soup2 = BeautifulSoup(soup1.prettify(), \"html.parser\")\n",
    "\n",
    "    # Extract title and clean it up\n",
    "    title = soup2.find(id='title_feature_div').get_text(strip=True)\n",
    "    \n",
    "    # Extract price and clean it up\n",
    "    price = soup2.find(id='corePriceDisplay_desktop_feature_div').get_text(strip=True)\n",
    "    \n",
    "    # Use regex to extract the numeric price\n",
    "    import re\n",
    "    cleaned_price = re.search(r\"₹(\\d+)\", price).group(1)\n",
    "\n",
    "    import datetime\n",
    "    today = datetime.date.today()\n",
    "    \n",
    "    import csv \n",
    "    header = ['Title', 'Price', 'Date']\n",
    "    data = [title, cleaned_price, today]\n",
    "\n",
    "    with open('WebScraperDataset.csv', 'a+', newline='', encoding='UTF8') as f:\n",
    "        writer = csv.writer(f)\n",
    "        writer.writerow(data)"
   ]
  },
  {
   "cell_type": "code",
   "execution_count": 102,
   "id": "1e33498e-7626-4e2b-8f5d-2b4796f5c527",
   "metadata": {},
   "outputs": [],
   "source": [
    "# Runs check_price after a set time and inputs data into your CSV\n",
    "counter = 0\n",
    "while(counter < 20):\n",
    "    check_price()\n",
    "    # time.sleep(2)\n",
    "    counter = counter + 1"
   ]
  },
  {
   "cell_type": "code",
   "execution_count": 96,
   "id": "43db5f5b-dc3d-4452-906c-fdee7880a2b1",
   "metadata": {},
   "outputs": [
    {
     "name": "stdout",
     "output_type": "stream",
     "text": [
      "                                                Title  Price        Date\n",
      "0   Seek Buy Love Funny Spreadsheet T-Shirt, Data ...    449  2024-10-18\n",
      "1   Seek Buy Love Funny Spreadsheet T-Shirt, Data ...    449  2024-10-18\n",
      "2   Seek Buy Love Funny Spreadsheet T-Shirt, Data ...    449  2024-10-18\n",
      "3   Seek Buy Love Funny Spreadsheet T-Shirt, Data ...    449  2024-10-18\n",
      "4   Seek Buy Love Funny Spreadsheet T-Shirt, Data ...    449  2024-10-18\n",
      "5   Seek Buy Love Funny Spreadsheet T-Shirt, Data ...    449  2024-10-18\n",
      "6   Seek Buy Love Funny Spreadsheet T-Shirt, Data ...    449  2024-10-18\n",
      "7   Seek Buy Love Funny Spreadsheet T-Shirt, Data ...    449  2024-10-18\n",
      "8   Seek Buy Love Funny Spreadsheet T-Shirt, Data ...    449  2024-10-18\n",
      "9   Seek Buy Love Funny Spreadsheet T-Shirt, Data ...    449  2024-10-18\n",
      "10  Seek Buy Love Funny Spreadsheet T-Shirt, Data ...    449  2024-10-18\n",
      "11  Seek Buy Love Funny Spreadsheet T-Shirt, Data ...    449  2024-10-18\n",
      "12  Seek Buy Love Funny Spreadsheet T-Shirt, Data ...    449  2024-10-18\n",
      "13  Seek Buy Love Funny Spreadsheet T-Shirt, Data ...    449  2024-10-18\n",
      "14  Seek Buy Love Funny Spreadsheet T-Shirt, Data ...    449  2024-10-18\n",
      "15  Seek Buy Love Funny Spreadsheet T-Shirt, Data ...    449  2024-10-18\n",
      "16  Seek Buy Love Funny Spreadsheet T-Shirt, Data ...    449  2024-10-18\n",
      "17  Seek Buy Love Funny Spreadsheet T-Shirt, Data ...    449  2024-10-18\n",
      "18  Seek Buy Love Funny Spreadsheet T-Shirt, Data ...    449  2024-10-18\n",
      "19  Seek Buy Love Funny Spreadsheet T-Shirt, Data ...    449  2024-10-18\n",
      "20  Seek Buy Love Funny Spreadsheet T-Shirt, Data ...    449  2024-10-18\n",
      "21  Seek Buy Love Funny Spreadsheet T-Shirt, Data ...    449  2024-10-18\n",
      "22  Seek Buy Love Funny Spreadsheet T-Shirt, Data ...    449  2024-10-18\n",
      "23  Seek Buy Love Funny Spreadsheet T-Shirt, Data ...    449  2024-10-18\n",
      "24  Seek Buy Love Funny Spreadsheet T-Shirt, Data ...    449  2024-10-18\n",
      "25  Seek Buy Love Funny Spreadsheet T-Shirt, Data ...    449  2024-10-18\n",
      "26  Seek Buy Love Funny Spreadsheet T-Shirt, Data ...    449  2024-10-18\n",
      "27  Seek Buy Love Funny Spreadsheet T-Shirt, Data ...    449  2024-10-18\n",
      "28  Seek Buy Love Funny Spreadsheet T-Shirt, Data ...    449  2024-10-18\n"
     ]
    }
   ],
   "source": [
    "import pandas as pd\n",
    "\n",
    "df = pd.read_csv('WebScraperDataset.csv')\n",
    "\n",
    "print(df)"
   ]
  },
  {
   "cell_type": "code",
   "execution_count": null,
   "id": "a8618a5b-74c0-446d-8f78-03cca89fbac2",
   "metadata": {},
   "outputs": [],
   "source": []
  }
 ],
 "metadata": {
  "kernelspec": {
   "display_name": "Python 3 (ipykernel)",
   "language": "python",
   "name": "python3"
  },
  "language_info": {
   "codemirror_mode": {
    "name": "ipython",
    "version": 3
   },
   "file_extension": ".py",
   "mimetype": "text/x-python",
   "name": "python",
   "nbconvert_exporter": "python",
   "pygments_lexer": "ipython3",
   "version": "3.12.4"
  }
 },
 "nbformat": 4,
 "nbformat_minor": 5
}
